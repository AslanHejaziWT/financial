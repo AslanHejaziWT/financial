{
 "cells": [
  {
   "cell_type": "markdown",
   "metadata": {},
   "source": [
    "***\n",
    "# Portfolio Optimization techniques\n",
    "\n",
    "\n",
    "This notebook will be following the Markowitz technique for portfolio optimization. Follow this [site](https://cvxr.rbind.io/cvxr_examples/cvxr_portfolio-optimization/).\n",
    "\n",
    "First we will take random data and plot them to see their returns. In this notebook, risk (aka volatility) will be quantified as the standard deviation of returns.\n",
    "\n",
    "Once we generate the returns, the next step will be to generate weights for each of the assets. The goal here is to maximise returns while minimizing risks. And we will assume that our entire capital will be invested in all the companies, so the weights add up to 1."
   ]
  },
  {
   "cell_type": "markdown",
   "metadata": {},
   "source": [
    "To evaluate how well our portfolios would perform, we need to calculate two things:\n",
    "1. The mean returns of the portfolio.\n",
    "2. The volatility (standard deviation).\n",
    "\n",
    "The expected return, $R$, is calculated as follows with R being the return, p being the vector (whose length is equal to the number of stocks) of means of the entire porfolio and W being the random weights:\n",
    "\n",
    "### <center> $R = p^TW$\n",
    "\n",
    "The standard deviation, $\\sigma$, is calculated using the covariance, $C$ of the returns along with the weights:\n",
    "\n",
    "### <center> $\\sigma = \\sqrt(W^TCW)$\n",
    "\n",
    "The diagonal elements of the covariance matrix indicate the amount of variance in each individual stock, while the off diagonal elements indicate the amount of variance between stocks. If we only use the regular standard deviation formula, we only get the diagonal elements.\n",
    "\n",
    "## Markowitz optimization and the Efficient Frontier\n",
    "\n",
    "\n",
    "What we have in the figure above is the plot of returns vs. volatility -- characteristically assuming the form of a parabola called the Markowitz bullet. The borders of this paraboa, called the **efficient frontier**, have the lowest variance for a given expected return.\n",
    "\n",
    "In an optimization framework, this is done by maximizing returns adjusted with risk:\n",
    "\n",
    "### <center> maximize $(R - \\sigma^2)$\n",
    "\n",
    "subject to:\n",
    "\n",
    "### <center> $\\sum_{i} W = 1$\n",
    "\n",
    "### <center> $w_{i}>=0$\n",
    "\n",
    "We will be using the convex optimization library, CVXPY, to solve the optimization problem: it is a Python-embedded modeling language for convex optimization problems. It allows you to express your problem in a natural way that follows the mathematical model, rather than in the restrictive standard form required by solvers.\n",
    "\n"
   ]
  },
  {
   "cell_type": "code",
   "execution_count": 1,
   "metadata": {
    "colab": {
     "base_uri": "https://localhost:8080/",
     "height": 34
    },
    "colab_type": "code",
    "id": "AiXti2R48Owo",
    "outputId": "e1fba482-d9e5-4aa2-978f-2fe7b1da1980"
   },
   "outputs": [],
   "source": [
    "## Import libraries.\n",
    "import sys\n",
    "## Certain imports are failing.\n",
    "sys.path.append('/home/sharatpc/.local/lib/python3.8/site-packages')\n",
    "\n",
    "import cvxpy as cp\n",
    "import matplotlib.pyplot as plt         # Graphs\n",
    "import numpy as np                      # Arrays\n",
    "import os                               # Operating system\n",
    "import pandas as pd\n",
    "import plotly.express as px\n",
    "import plotly.graph_objects as go\n",
    "\n",
    "from matplotlib import cm               # Colours\n",
    "from mpl_toolkits.mplot3d import Axes3D # 3D graphs"
   ]
  },
  {
   "cell_type": "code",
   "execution_count": null,
   "metadata": {},
   "outputs": [],
   "source": [
    "## Trying with random data.\n",
    "num_observations = 40\n",
    "num_assets = 5\n",
    "asset_obs_matrix = np.random.randn(num_observations,num_assets)"
   ]
  },
  {
   "cell_type": "code",
   "execution_count": null,
   "metadata": {},
   "outputs": [],
   "source": [
    "fig = plt.figure(figsize=(10,10))\n",
    "plt.plot(asset_obs_matrix)\n",
    "plt.xlabel(\"Time\")\n",
    "plt.ylabel(\"Returns\")\n",
    "plt.legend(['First Asset', 'Second Asset','Third Asset','Fourth Asset'])\n",
    "plt.title(\"Returns over Time\")"
   ]
  },
  {
   "cell_type": "code",
   "execution_count": null,
   "metadata": {},
   "outputs": [],
   "source": [
    "means = np.asarray(np.mean(asset_obs_matrix,axis=0))\n",
    "covar = np.asarray(np.cov(asset_obs_matrix,rowvar=False))\n",
    "weights = cp.Variable(num_assets)\n",
    "r = means.T@weights\n",
    "risk = cp.quad_form(weights,covar)\n",
    "# Construct the problem.\n",
    "objective = cp.Maximize(r-risk)\n",
    "constraints = [sum(weights)==1, weights >= 0]\n",
    "prob = cp.Problem(objective, constraints)"
   ]
  },
  {
   "cell_type": "code",
   "execution_count": null,
   "metadata": {},
   "outputs": [],
   "source": [
    "try:\n",
    "    prob.solve()\n",
    "#     print (\"Optimal portfolio\")\n",
    "#     print (\"----------------------\")\n",
    "#     for s in range(len(symbols)):\n",
    "#        print (\" Investment in {} : {}% of the portfolio\".format(symbols[s],round(100*x.value[s],2)))\n",
    "#     print (\"----------------------\")\n",
    "#     print (\"Exp ret = {}%\".format(round(100*ret.value,2)))\n",
    "#     print (\"Expected risk    = {}%\".format(round(100*risk.value**0.5,2)))\n",
    "except:\n",
    "    print (\"Error\")"
   ]
  },
  {
   "cell_type": "code",
   "execution_count": null,
   "metadata": {},
   "outputs": [],
   "source": [
    "prob.status"
   ]
  },
  {
   "cell_type": "code",
   "execution_count": null,
   "metadata": {},
   "outputs": [],
   "source": [
    "weights.value"
   ]
  },
  {
   "cell_type": "markdown",
   "metadata": {},
   "source": [
    "## With Historical Stock Data\n",
    "Now I will compute the same by taking the Nifty50 data dating from 2020-05-04 until 2021-04-30. In the interest of time, I have only considered 6 stocks from the Nifty50, but the idea can be extended to all stocks."
   ]
  },
  {
   "cell_type": "code",
   "execution_count": 8,
   "metadata": {},
   "outputs": [],
   "source": [
    "nifty_data = pd.read_csv(os.getcwd()+\"/nifty_50_close.csv\")\n",
    "num_observations = nifty_data.shape[0]\n",
    "num_assets = nifty_data.shape[1]\n",
    "nifty_data = nifty_data.to_numpy()\n",
    "dict_of_companies = dict()"
   ]
  },
  {
   "cell_type": "code",
   "execution_count": 9,
   "metadata": {},
   "outputs": [],
   "source": [
    "means = np.asarray(np.mean(nifty_data,axis=0))\n",
    "covar = np.asarray(np.cov(nifty_data,rowvar=False))\n",
    "weights = cp.Variable(num_assets)\n",
    "r = means.T@weights\n",
    "risk = cp.quad_form(weights,covar)\n",
    "# Construct the problem.\n",
    "objective = cp.Maximize(r-risk)\n",
    "constraints = [sum(weights)==1, weights >= 0]\n",
    "prob = cp.Problem(objective, constraints)"
   ]
  },
  {
   "cell_type": "code",
   "execution_count": 10,
   "metadata": {},
   "outputs": [],
   "source": [
    "try:\n",
    "    prob.solve()\n",
    "#     print (\"Optimal portfolio\")\n",
    "#     print (\"----------------------\")\n",
    "#     for s in range(len(symbols)):\n",
    "#        print (\" Investment in {} : {}% of the portfolio\".format(symbols[s],round(100*x.value[s],2)))\n",
    "#     print (\"----------------------\")\n",
    "#     print (\"Exp ret = {}%\".format(round(100*ret.value,2)))\n",
    "#     print (\"Expected risk    = {}%\".format(round(100*risk.value**0.5,2)))\n",
    "except:\n",
    "    print (\"Error\")"
   ]
  },
  {
   "cell_type": "code",
   "execution_count": 11,
   "metadata": {},
   "outputs": [
    {
     "data": {
      "text/plain": [
       "'optimal'"
      ]
     },
     "execution_count": 11,
     "metadata": {},
     "output_type": "execute_result"
    }
   ],
   "source": [
    "prob.status"
   ]
  },
  {
   "cell_type": "code",
   "execution_count": 12,
   "metadata": {},
   "outputs": [
    {
     "data": {
      "text/plain": [
       "array([ 3.03058341e-23,  2.42487625e-02,  3.01312606e-02, -7.94336664e-24,\n",
       "       -3.45749848e-24, -2.77679836e-24,  9.45619977e-01])"
      ]
     },
     "execution_count": 12,
     "metadata": {},
     "output_type": "execute_result"
    }
   ],
   "source": [
    "weights.value"
   ]
  },
  {
   "cell_type": "code",
   "execution_count": null,
   "metadata": {},
   "outputs": [],
   "source": []
  }
 ],
 "metadata": {
  "colab": {
   "collapsed_sections": [],
   "name": "supply_chain.ipynb",
   "provenance": []
  },
  "kernelspec": {
   "display_name": "Python 3",
   "language": "python",
   "name": "python3"
  },
  "language_info": {
   "codemirror_mode": {
    "name": "ipython",
    "version": 3
   },
   "file_extension": ".py",
   "mimetype": "text/x-python",
   "name": "python",
   "nbconvert_exporter": "python",
   "pygments_lexer": "ipython3",
   "version": "3.8.10"
  }
 },
 "nbformat": 4,
 "nbformat_minor": 1
}
